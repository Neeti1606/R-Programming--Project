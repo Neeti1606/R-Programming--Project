{
 "cells": [
  {
   "cell_type": "code",
   "execution_count": 23,
   "id": "attractive-corner",
   "metadata": {},
   "outputs": [],
   "source": [
    "churn<-read.csv(\"C:\\\\Users\\\\DELL\\\\OneDrive\\\\Desktop\\\\Data Science\\\\R\\\\R Project\\\\Churn.csv\", header=T)\n"
   ]
  },
  {
   "cell_type": "code",
   "execution_count": 24,
   "id": "democratic-calculator",
   "metadata": {},
   "outputs": [
    {
     "data": {
      "text/html": [
       "<ol class=list-inline>\n",
       "\t<li>'customerID'</li>\n",
       "\t<li>'gender'</li>\n",
       "\t<li>'SeniorCitizen'</li>\n",
       "\t<li>'Partner'</li>\n",
       "\t<li>'Dependents'</li>\n",
       "\t<li>'tenure'</li>\n",
       "\t<li>'PhoneService'</li>\n",
       "\t<li>'MultipleLines'</li>\n",
       "\t<li>'InternetService'</li>\n",
       "\t<li>'OnlineSecurity'</li>\n",
       "\t<li>'OnlineBackup'</li>\n",
       "\t<li>'DeviceProtection'</li>\n",
       "\t<li>'TechSupport'</li>\n",
       "\t<li>'StreamingTV'</li>\n",
       "\t<li>'StreamingMovies'</li>\n",
       "\t<li>'Contract'</li>\n",
       "\t<li>'PaperlessBilling'</li>\n",
       "\t<li>'PaymentMethod'</li>\n",
       "\t<li>'MonthlyCharges'</li>\n",
       "\t<li>'TotalCharges'</li>\n",
       "\t<li>'Churn'</li>\n",
       "</ol>\n"
      ],
      "text/latex": [
       "\\begin{enumerate*}\n",
       "\\item 'customerID'\n",
       "\\item 'gender'\n",
       "\\item 'SeniorCitizen'\n",
       "\\item 'Partner'\n",
       "\\item 'Dependents'\n",
       "\\item 'tenure'\n",
       "\\item 'PhoneService'\n",
       "\\item 'MultipleLines'\n",
       "\\item 'InternetService'\n",
       "\\item 'OnlineSecurity'\n",
       "\\item 'OnlineBackup'\n",
       "\\item 'DeviceProtection'\n",
       "\\item 'TechSupport'\n",
       "\\item 'StreamingTV'\n",
       "\\item 'StreamingMovies'\n",
       "\\item 'Contract'\n",
       "\\item 'PaperlessBilling'\n",
       "\\item 'PaymentMethod'\n",
       "\\item 'MonthlyCharges'\n",
       "\\item 'TotalCharges'\n",
       "\\item 'Churn'\n",
       "\\end{enumerate*}\n"
      ],
      "text/markdown": [
       "1. 'customerID'\n",
       "2. 'gender'\n",
       "3. 'SeniorCitizen'\n",
       "4. 'Partner'\n",
       "5. 'Dependents'\n",
       "6. 'tenure'\n",
       "7. 'PhoneService'\n",
       "8. 'MultipleLines'\n",
       "9. 'InternetService'\n",
       "10. 'OnlineSecurity'\n",
       "11. 'OnlineBackup'\n",
       "12. 'DeviceProtection'\n",
       "13. 'TechSupport'\n",
       "14. 'StreamingTV'\n",
       "15. 'StreamingMovies'\n",
       "16. 'Contract'\n",
       "17. 'PaperlessBilling'\n",
       "18. 'PaymentMethod'\n",
       "19. 'MonthlyCharges'\n",
       "20. 'TotalCharges'\n",
       "21. 'Churn'\n",
       "\n",
       "\n"
      ],
      "text/plain": [
       " [1] \"customerID\"       \"gender\"           \"SeniorCitizen\"    \"Partner\"         \n",
       " [5] \"Dependents\"       \"tenure\"           \"PhoneService\"     \"MultipleLines\"   \n",
       " [9] \"InternetService\"  \"OnlineSecurity\"   \"OnlineBackup\"     \"DeviceProtection\"\n",
       "[13] \"TechSupport\"      \"StreamingTV\"      \"StreamingMovies\"  \"Contract\"        \n",
       "[17] \"PaperlessBilling\" \"PaymentMethod\"    \"MonthlyCharges\"   \"TotalCharges\"    \n",
       "[21] \"Churn\"           "
      ]
     },
     "metadata": {},
     "output_type": "display_data"
    }
   ],
   "source": [
    "names(churn)"
   ]
  },
  {
   "cell_type": "code",
   "execution_count": 25,
   "id": "social-consultation",
   "metadata": {},
   "outputs": [
    {
     "name": "stdout",
     "output_type": "stream",
     "text": [
      "'data.frame':\t7043 obs. of  21 variables:\n",
      " $ customerID      : Factor w/ 7043 levels \"0002-ORFBO\",\"0003-MKNFE\",..: 5376 3963 2565 5536 6512 6552 1003 4771 5605 4535 ...\n",
      " $ gender          : Factor w/ 2 levels \"Female\",\"Male\": 1 2 2 2 1 1 2 1 1 2 ...\n",
      " $ SeniorCitizen   : int  0 0 0 0 0 0 0 0 0 0 ...\n",
      " $ Partner         : Factor w/ 2 levels \"No\",\"Yes\": 2 1 1 1 1 1 1 1 2 1 ...\n",
      " $ Dependents      : Factor w/ 2 levels \"No\",\"Yes\": 1 1 1 1 1 1 2 1 1 2 ...\n",
      " $ tenure          : int  1 34 2 45 2 8 22 10 28 62 ...\n",
      " $ PhoneService    : Factor w/ 2 levels \"No\",\"Yes\": 1 2 2 1 2 2 2 1 2 2 ...\n",
      " $ MultipleLines   : Factor w/ 3 levels \"No\",\"No phone service\",..: 2 1 1 2 1 3 3 2 3 1 ...\n",
      " $ InternetService : Factor w/ 3 levels \"DSL\",\"Fiber optic\",..: 1 1 1 1 2 2 2 1 2 1 ...\n",
      " $ OnlineSecurity  : Factor w/ 3 levels \"No\",\"No internet service\",..: 1 3 3 3 1 1 1 3 1 3 ...\n",
      " $ OnlineBackup    : Factor w/ 3 levels \"No\",\"No internet service\",..: 3 1 3 1 1 1 3 1 1 3 ...\n",
      " $ DeviceProtection: Factor w/ 3 levels \"No\",\"No internet service\",..: 1 3 1 3 1 3 1 1 3 1 ...\n",
      " $ TechSupport     : Factor w/ 3 levels \"No\",\"No internet service\",..: 1 1 1 3 1 1 1 1 3 1 ...\n",
      " $ StreamingTV     : Factor w/ 3 levels \"No\",\"No internet service\",..: 1 1 1 1 1 3 3 1 3 1 ...\n",
      " $ StreamingMovies : Factor w/ 3 levels \"No\",\"No internet service\",..: 1 1 1 1 1 3 1 1 3 1 ...\n",
      " $ Contract        : Factor w/ 3 levels \"Month-to-month\",..: 1 2 1 2 1 1 1 1 1 2 ...\n",
      " $ PaperlessBilling: Factor w/ 2 levels \"No\",\"Yes\": 2 1 2 1 2 2 2 1 2 1 ...\n",
      " $ PaymentMethod   : Factor w/ 4 levels \"Bank transfer (automatic)\",..: 3 4 4 1 3 3 2 4 3 1 ...\n",
      " $ MonthlyCharges  : num  29.9 57 53.9 42.3 70.7 ...\n",
      " $ TotalCharges    : num  29.9 1889.5 108.2 1840.8 151.7 ...\n",
      " $ Churn           : Factor w/ 2 levels \"No\",\"Yes\": 1 1 2 1 2 2 1 1 2 1 ...\n"
     ]
    }
   ],
   "source": [
    "str(churn)"
   ]
  },
  {
   "cell_type": "code",
   "execution_count": 26,
   "id": "southern-graham",
   "metadata": {},
   "outputs": [
    {
     "data": {
      "text/plain": [
       "      customerID      gender     SeniorCitizen    Partner    Dependents\n",
       " 0002-ORFBO:   1   Female:3488   Min.   :0.0000   No :3641   No :4933  \n",
       " 0003-MKNFE:   1   Male  :3555   1st Qu.:0.0000   Yes:3402   Yes:2110  \n",
       " 0004-TLHLJ:   1                 Median :0.0000                        \n",
       " 0011-IGKFF:   1                 Mean   :0.1621                        \n",
       " 0013-EXCHZ:   1                 3rd Qu.:0.0000                        \n",
       " 0013-MHZWF:   1                 Max.   :1.0000                        \n",
       " (Other)   :7037                                                       \n",
       "     tenure      PhoneService          MultipleLines     InternetService\n",
       " Min.   : 0.00   No : 682     No              :3390   DSL        :2421  \n",
       " 1st Qu.: 9.00   Yes:6361     No phone service: 682   Fiber optic:3096  \n",
       " Median :29.00                Yes             :2971   No         :1526  \n",
       " Mean   :32.37                                                          \n",
       " 3rd Qu.:55.00                                                          \n",
       " Max.   :72.00                                                          \n",
       "                                                                        \n",
       "             OnlineSecurity              OnlineBackup \n",
       " No                 :3498   No                 :3088  \n",
       " No internet service:1526   No internet service:1526  \n",
       " Yes                :2019   Yes                :2429  \n",
       "                                                      \n",
       "                                                      \n",
       "                                                      \n",
       "                                                      \n",
       "            DeviceProtection              TechSupport  \n",
       " No                 :3095    No                 :3473  \n",
       " No internet service:1526    No internet service:1526  \n",
       " Yes                :2422    Yes                :2044  \n",
       "                                                       \n",
       "                                                       \n",
       "                                                       \n",
       "                                                       \n",
       "              StreamingTV              StreamingMovies           Contract   \n",
       " No                 :2810   No                 :2785   Month-to-month:3875  \n",
       " No internet service:1526   No internet service:1526   One year      :1473  \n",
       " Yes                :2707   Yes                :2732   Two year      :1695  \n",
       "                                                                            \n",
       "                                                                            \n",
       "                                                                            \n",
       "                                                                            \n",
       " PaperlessBilling                   PaymentMethod  MonthlyCharges  \n",
       " No :2872         Bank transfer (automatic):1544   Min.   : 18.25  \n",
       " Yes:4171         Credit card (automatic)  :1522   1st Qu.: 35.50  \n",
       "                  Electronic check         :2365   Median : 70.35  \n",
       "                  Mailed check             :1612   Mean   : 64.76  \n",
       "                                                   3rd Qu.: 89.85  \n",
       "                                                   Max.   :118.75  \n",
       "                                                                   \n",
       "  TotalCharges    Churn     \n",
       " Min.   :  18.8   No :5174  \n",
       " 1st Qu.: 401.4   Yes:1869  \n",
       " Median :1397.5             \n",
       " Mean   :2283.3             \n",
       " 3rd Qu.:3794.7             \n",
       " Max.   :8684.8             \n",
       " NA's   :11                 "
      ]
     },
     "metadata": {},
     "output_type": "display_data"
    }
   ],
   "source": [
    "summary(churn)"
   ]
  },
  {
   "cell_type": "code",
   "execution_count": 7,
   "id": "portuguese-duration",
   "metadata": {},
   "outputs": [
    {
     "name": "stdout",
     "output_type": "stream",
     "text": [
      "package 'plyr' successfully unpacked and MD5 sums checked\n",
      "\n",
      "The downloaded binary packages are in\n",
      "\tC:\\Users\\DELL\\AppData\\Local\\Temp\\RtmpGCohy5\\downloaded_packages\n",
      "package 'corrplot' successfully unpacked and MD5 sums checked\n",
      "\n",
      "The downloaded binary packages are in\n",
      "\tC:\\Users\\DELL\\AppData\\Local\\Temp\\RtmpGCohy5\\downloaded_packages\n",
      "package 'ggplot2' successfully unpacked and MD5 sums checked\n",
      "\n",
      "The downloaded binary packages are in\n",
      "\tC:\\Users\\DELL\\AppData\\Local\\Temp\\RtmpGCohy5\\downloaded_packages\n",
      "package 'gridExtra' successfully unpacked and MD5 sums checked\n",
      "\n",
      "The downloaded binary packages are in\n",
      "\tC:\\Users\\DELL\\AppData\\Local\\Temp\\RtmpGCohy5\\downloaded_packages\n"
     ]
    },
    {
     "name": "stderr",
     "output_type": "stream",
     "text": [
      "also installing the dependencies 'stringi', 'stringr'\n",
      "\n"
     ]
    },
    {
     "name": "stdout",
     "output_type": "stream",
     "text": [
      "package 'stringi' successfully unpacked and MD5 sums checked\n",
      "package 'stringr' successfully unpacked and MD5 sums checked\n",
      "package 'ggthemes' successfully unpacked and MD5 sums checked\n",
      "\n",
      "The downloaded binary packages are in\n",
      "\tC:\\Users\\DELL\\AppData\\Local\\Temp\\RtmpGCohy5\\downloaded_packages\n"
     ]
    },
    {
     "name": "stderr",
     "output_type": "stream",
     "text": [
      "also installing the dependencies 'numDeriv', 'SQUAREM', 'KernSmooth', 'lava', 'rpart', 'nnet', 'class', 'prodlim', 'cpp11', 'iterators', 'data.table', 'gower', 'ipred', 'lubridate', 'tidyr', 'timeDate', 'foreach', 'ModelMetrics', 'reshape2', 'recipes', 'pROC'\n",
      "\n"
     ]
    },
    {
     "name": "stdout",
     "output_type": "stream",
     "text": [
      "package 'numDeriv' successfully unpacked and MD5 sums checked\n",
      "package 'SQUAREM' successfully unpacked and MD5 sums checked\n",
      "package 'KernSmooth' successfully unpacked and MD5 sums checked\n",
      "package 'lava' successfully unpacked and MD5 sums checked\n",
      "package 'rpart' successfully unpacked and MD5 sums checked\n",
      "package 'nnet' successfully unpacked and MD5 sums checked\n",
      "package 'class' successfully unpacked and MD5 sums checked\n",
      "package 'prodlim' successfully unpacked and MD5 sums checked\n",
      "package 'cpp11' successfully unpacked and MD5 sums checked\n",
      "package 'iterators' successfully unpacked and MD5 sums checked\n",
      "package 'data.table' successfully unpacked and MD5 sums checked\n",
      "package 'gower' successfully unpacked and MD5 sums checked\n",
      "package 'ipred' successfully unpacked and MD5 sums checked\n",
      "package 'lubridate' successfully unpacked and MD5 sums checked\n",
      "package 'tidyr' successfully unpacked and MD5 sums checked\n",
      "package 'timeDate' successfully unpacked and MD5 sums checked\n",
      "package 'foreach' successfully unpacked and MD5 sums checked\n",
      "package 'ModelMetrics' successfully unpacked and MD5 sums checked\n",
      "package 'reshape2' successfully unpacked and MD5 sums checked\n",
      "package 'recipes' successfully unpacked and MD5 sums checked\n",
      "package 'pROC' successfully unpacked and MD5 sums checked\n",
      "package 'caret' successfully unpacked and MD5 sums checked\n",
      "\n",
      "The downloaded binary packages are in\n",
      "\tC:\\Users\\DELL\\AppData\\Local\\Temp\\RtmpGCohy5\\downloaded_packages\n",
      "package 'MASS' successfully unpacked and MD5 sums checked\n",
      "\n",
      "The downloaded binary packages are in\n",
      "\tC:\\Users\\DELL\\AppData\\Local\\Temp\\RtmpGCohy5\\downloaded_packages\n",
      "package 'randomForest' successfully unpacked and MD5 sums checked\n",
      "\n",
      "The downloaded binary packages are in\n",
      "\tC:\\Users\\DELL\\AppData\\Local\\Temp\\RtmpGCohy5\\downloaded_packages\n",
      "package 'party' successfully unpacked and MD5 sums checked\n",
      "\n",
      "The downloaded binary packages are in\n",
      "\tC:\\Users\\DELL\\AppData\\Local\\Temp\\RtmpGCohy5\\downloaded_packages\n"
     ]
    }
   ],
   "source": [
    "install.packages(\"plyr\")\n",
    "install.packages(\"corrplot\")\n",
    "install.packages(\"ggplot2\")\n",
    "install.packages(\"gridExtra\")\n",
    "install.packages(\"ggthemes\")\n",
    "install.packages(\"caret\")\n",
    "install.packages(\"MASS\")\n",
    "install.packages(\"randomForest\")\n",
    "install.packages(\"party\")"
   ]
  },
  {
   "cell_type": "code",
   "execution_count": 8,
   "id": "expired-flush",
   "metadata": {},
   "outputs": [
    {
     "name": "stderr",
     "output_type": "stream",
     "text": [
      "Warning message:\n",
      "\"package 'plyr' was built under R version 3.6.3\"Warning message:\n",
      "\"package 'corrplot' was built under R version 3.6.3\"corrplot 0.84 loaded\n",
      "Warning message:\n",
      "\"package 'ggplot2' was built under R version 3.6.3\"Warning message:\n",
      "\"package 'gridExtra' was built under R version 3.6.3\"Warning message:\n",
      "\"package 'ggthemes' was built under R version 3.6.3\"Warning message:\n",
      "\"package 'caret' was built under R version 3.6.3\"Loading required package: lattice\n",
      "Warning message:\n",
      "\"package 'lattice' was built under R version 3.6.3\"Warning message:\n",
      "\"package 'MASS' was built under R version 3.6.3\"Warning message:\n",
      "\"package 'randomForest' was built under R version 3.6.3\"randomForest 4.6-14\n",
      "Type rfNews() to see new features/changes/bug fixes.\n",
      "\n",
      "Attaching package: 'randomForest'\n",
      "\n",
      "The following object is masked from 'package:gridExtra':\n",
      "\n",
      "    combine\n",
      "\n",
      "The following object is masked from 'package:ggplot2':\n",
      "\n",
      "    margin\n",
      "\n",
      "Warning message:\n",
      "\"package 'party' was built under R version 3.6.3\"Loading required package: grid\n",
      "Loading required package: mvtnorm\n",
      "Warning message:\n",
      "\"package 'mvtnorm' was built under R version 3.6.3\"Loading required package: modeltools\n",
      "Warning message:\n",
      "\"package 'modeltools' was built under R version 3.6.3\"Loading required package: stats4\n",
      "\n",
      "Attaching package: 'modeltools'\n",
      "\n",
      "The following object is masked from 'package:plyr':\n",
      "\n",
      "    empty\n",
      "\n",
      "Loading required package: strucchange\n",
      "Warning message:\n",
      "\"package 'strucchange' was built under R version 3.6.3\"Loading required package: zoo\n",
      "Warning message:\n",
      "\"package 'zoo' was built under R version 3.6.3\"\n",
      "Attaching package: 'zoo'\n",
      "\n",
      "The following objects are masked from 'package:base':\n",
      "\n",
      "    as.Date, as.Date.numeric\n",
      "\n",
      "Loading required package: sandwich\n",
      "Warning message:\n",
      "\"package 'sandwich' was built under R version 3.6.3\""
     ]
    }
   ],
   "source": [
    "library(plyr)\n",
    "library(corrplot)\n",
    "library(ggplot2)\n",
    "library(gridExtra)\n",
    "library(ggthemes)\n",
    "library(caret)\n",
    "library(MASS)\n",
    "library(randomForest)\n",
    "library(party)"
   ]
  },
  {
   "cell_type": "code",
   "execution_count": 27,
   "id": "interstate-fraud",
   "metadata": {},
   "outputs": [
    {
     "data": {
      "text/html": [
       "<dl class=dl-horizontal>\n",
       "\t<dt>customerID</dt>\n",
       "\t\t<dd>0</dd>\n",
       "\t<dt>gender</dt>\n",
       "\t\t<dd>0</dd>\n",
       "\t<dt>SeniorCitizen</dt>\n",
       "\t\t<dd>0</dd>\n",
       "\t<dt>Partner</dt>\n",
       "\t\t<dd>0</dd>\n",
       "\t<dt>Dependents</dt>\n",
       "\t\t<dd>0</dd>\n",
       "\t<dt>tenure</dt>\n",
       "\t\t<dd>0</dd>\n",
       "\t<dt>PhoneService</dt>\n",
       "\t\t<dd>0</dd>\n",
       "\t<dt>MultipleLines</dt>\n",
       "\t\t<dd>0</dd>\n",
       "\t<dt>InternetService</dt>\n",
       "\t\t<dd>0</dd>\n",
       "\t<dt>OnlineSecurity</dt>\n",
       "\t\t<dd>0</dd>\n",
       "\t<dt>OnlineBackup</dt>\n",
       "\t\t<dd>0</dd>\n",
       "\t<dt>DeviceProtection</dt>\n",
       "\t\t<dd>0</dd>\n",
       "\t<dt>TechSupport</dt>\n",
       "\t\t<dd>0</dd>\n",
       "\t<dt>StreamingTV</dt>\n",
       "\t\t<dd>0</dd>\n",
       "\t<dt>StreamingMovies</dt>\n",
       "\t\t<dd>0</dd>\n",
       "\t<dt>Contract</dt>\n",
       "\t\t<dd>0</dd>\n",
       "\t<dt>PaperlessBilling</dt>\n",
       "\t\t<dd>0</dd>\n",
       "\t<dt>PaymentMethod</dt>\n",
       "\t\t<dd>0</dd>\n",
       "\t<dt>MonthlyCharges</dt>\n",
       "\t\t<dd>0</dd>\n",
       "\t<dt>TotalCharges</dt>\n",
       "\t\t<dd>11</dd>\n",
       "\t<dt>Churn</dt>\n",
       "\t\t<dd>0</dd>\n",
       "</dl>\n"
      ],
      "text/latex": [
       "\\begin{description*}\n",
       "\\item[customerID] 0\n",
       "\\item[gender] 0\n",
       "\\item[SeniorCitizen] 0\n",
       "\\item[Partner] 0\n",
       "\\item[Dependents] 0\n",
       "\\item[tenure] 0\n",
       "\\item[PhoneService] 0\n",
       "\\item[MultipleLines] 0\n",
       "\\item[InternetService] 0\n",
       "\\item[OnlineSecurity] 0\n",
       "\\item[OnlineBackup] 0\n",
       "\\item[DeviceProtection] 0\n",
       "\\item[TechSupport] 0\n",
       "\\item[StreamingTV] 0\n",
       "\\item[StreamingMovies] 0\n",
       "\\item[Contract] 0\n",
       "\\item[PaperlessBilling] 0\n",
       "\\item[PaymentMethod] 0\n",
       "\\item[MonthlyCharges] 0\n",
       "\\item[TotalCharges] 11\n",
       "\\item[Churn] 0\n",
       "\\end{description*}\n"
      ],
      "text/markdown": [
       "customerID\n",
       ":   0gender\n",
       ":   0SeniorCitizen\n",
       ":   0Partner\n",
       ":   0Dependents\n",
       ":   0tenure\n",
       ":   0PhoneService\n",
       ":   0MultipleLines\n",
       ":   0InternetService\n",
       ":   0OnlineSecurity\n",
       ":   0OnlineBackup\n",
       ":   0DeviceProtection\n",
       ":   0TechSupport\n",
       ":   0StreamingTV\n",
       ":   0StreamingMovies\n",
       ":   0Contract\n",
       ":   0PaperlessBilling\n",
       ":   0PaymentMethod\n",
       ":   0MonthlyCharges\n",
       ":   0TotalCharges\n",
       ":   11Churn\n",
       ":   0\n",
       "\n"
      ],
      "text/plain": [
       "      customerID           gender    SeniorCitizen          Partner \n",
       "               0                0                0                0 \n",
       "      Dependents           tenure     PhoneService    MultipleLines \n",
       "               0                0                0                0 \n",
       " InternetService   OnlineSecurity     OnlineBackup DeviceProtection \n",
       "               0                0                0                0 \n",
       "     TechSupport      StreamingTV  StreamingMovies         Contract \n",
       "               0                0                0                0 \n",
       "PaperlessBilling    PaymentMethod   MonthlyCharges     TotalCharges \n",
       "               0                0                0               11 \n",
       "           Churn \n",
       "               0 "
      ]
     },
     "metadata": {},
     "output_type": "display_data"
    },
    {
     "data": {
      "text/html": [
       "0"
      ],
      "text/latex": [
       "0"
      ],
      "text/markdown": [
       "0"
      ],
      "text/plain": [
       "[1] 0"
      ]
     },
     "metadata": {},
     "output_type": "display_data"
    },
    {
     "data": {
      "text/html": [
       "72"
      ],
      "text/latex": [
       "72"
      ],
      "text/markdown": [
       "72"
      ],
      "text/plain": [
       "[1] 72"
      ]
     },
     "metadata": {},
     "output_type": "display_data"
    },
    {
     "data": {
      "text/html": [
       "<ol class=list-inline>\n",
       "\t<li>4931</li>\n",
       "\t<li>19</li>\n",
       "</ol>\n"
      ],
      "text/latex": [
       "\\begin{enumerate*}\n",
       "\\item 4931\n",
       "\\item 19\n",
       "\\end{enumerate*}\n"
      ],
      "text/markdown": [
       "1. 4931\n",
       "2. 19\n",
       "\n",
       "\n"
      ],
      "text/plain": [
       "[1] 4931   19"
      ]
     },
     "metadata": {},
     "output_type": "display_data"
    },
    {
     "data": {
      "text/html": [
       "<ol class=list-inline>\n",
       "\t<li>2112</li>\n",
       "\t<li>19</li>\n",
       "</ol>\n"
      ],
      "text/latex": [
       "\\begin{enumerate*}\n",
       "\\item 2112\n",
       "\\item 19\n",
       "\\end{enumerate*}\n"
      ],
      "text/markdown": [
       "1. 2112\n",
       "2. 19\n",
       "\n",
       "\n"
      ],
      "text/plain": [
       "[1] 2112   19"
      ]
     },
     "metadata": {},
     "output_type": "display_data"
    },
    {
     "name": "stdout",
     "output_type": "stream",
     "text": [
      "\n",
      "Call:\n",
      "glm(formula = Churn ~ ., family = binomial(link = \"logit\"), data = training)\n",
      "\n",
      "Deviance Residuals: \n",
      "    Min       1Q   Median       3Q      Max  \n",
      "-1.9232  -0.6811  -0.2892   0.6669   3.1142  \n",
      "\n",
      "Coefficients:\n",
      "                                       Estimate Std. Error z value Pr(>|z|)    \n",
      "(Intercept)                          -1.9635546  0.9845051  -1.994 0.046102 *  \n",
      "genderMale                            0.0327527  0.0775094   0.423 0.672613    \n",
      "SeniorCitizenYes                      0.1525934  0.0995196   1.533 0.125202    \n",
      "PartnerYes                            0.0493275  0.0926645   0.532 0.594502    \n",
      "DependentsYes                        -0.1783764  0.1070297  -1.667 0.095593 .  \n",
      "PhoneServiceYes                      -0.5035557  0.7781223  -0.647 0.517540    \n",
      "MultipleLinesYes                      0.3189765  0.2125071   1.501 0.133352    \n",
      "InternetServiceFiber optic            0.9882862  0.9531779   1.037 0.299814    \n",
      "InternetServiceNo                    -0.7642148  0.9668664  -0.790 0.429292    \n",
      "OnlineSecurityYes                    -0.3450668  0.2137099  -1.615 0.106386    \n",
      "OnlineBackupYes                      -0.1660110  0.2089769  -0.794 0.426963    \n",
      "DeviceProtectionYes                   0.0144131  0.2105096   0.068 0.945413    \n",
      "TechSupportYes                       -0.2579255  0.2154438  -1.197 0.231236    \n",
      "StreamingTVYes                        0.2629085  0.3906345   0.673 0.500929    \n",
      "StreamingMoviesYes                    0.2770018  0.3899683   0.710 0.477506    \n",
      "ContractOne year                     -0.7045420  0.1268016  -5.556 2.76e-08 ***\n",
      "ContractTwo year                     -1.7401953  0.2198602  -7.915 2.47e-15 ***\n",
      "PaperlessBillingYes                   0.3002812  0.0892662   3.364 0.000769 ***\n",
      "PaymentMethodCredit card (automatic) -0.2927875  0.1353028  -2.164 0.030469 *  \n",
      "PaymentMethodElectronic check         0.2181081  0.1100059   1.983 0.047402 *  \n",
      "PaymentMethodMailed check            -0.1205044  0.1345095  -0.896 0.370317    \n",
      "MonthlyCharges                       -0.0008632  0.0379509  -0.023 0.981854    \n",
      "tenure_group0-12 Month                1.8281688  0.1999799   9.142  < 2e-16 ***\n",
      "tenure_group12-24 Month               0.8871347  0.1969738   4.504 6.67e-06 ***\n",
      "tenure_group24-48 Month               0.5001096  0.1789080   2.795 0.005184 ** \n",
      "tenure_group48-60 Month               0.2928865  0.1942639   1.508 0.131638    \n",
      "---\n",
      "Signif. codes:  0 '***' 0.001 '**' 0.01 '*' 0.05 '.' 0.1 ' ' 1\n",
      "\n",
      "(Dispersion parameter for binomial family taken to be 1)\n",
      "\n",
      "    Null deviance: 5707.1  on 4930  degrees of freedom\n",
      "Residual deviance: 4107.9  on 4905  degrees of freedom\n",
      "AIC: 4159.9\n",
      "\n",
      "Number of Fisher Scoring iterations: 6\n",
      "\n"
     ]
    },
    {
     "data": {
      "text/html": [
       "<table>\n",
       "<thead><tr><th></th><th scope=col>Df</th><th scope=col>Deviance</th><th scope=col>Resid. Df</th><th scope=col>Resid. Dev</th><th scope=col>Pr(&gt;Chi)</th></tr></thead>\n",
       "<tbody>\n",
       "\t<tr><th scope=row>NULL</th><td>NA           </td><td>          NA </td><td>4930         </td><td>5707.083     </td><td>           NA</td></tr>\n",
       "\t<tr><th scope=row>gender</th><td> 1           </td><td>1.003141e-02 </td><td>4929         </td><td>5707.073     </td><td> 9.202197e-01</td></tr>\n",
       "\t<tr><th scope=row>SeniorCitizen</th><td> 1           </td><td>9.544623e+01 </td><td>4928         </td><td>5611.626     </td><td> 1.519628e-22</td></tr>\n",
       "\t<tr><th scope=row>Partner</th><td> 1           </td><td>9.666264e+01 </td><td>4927         </td><td>5514.964     </td><td> 8.220603e-23</td></tr>\n",
       "\t<tr><th scope=row>Dependents</th><td> 1           </td><td>3.614707e+01 </td><td>4926         </td><td>5478.817     </td><td> 1.829732e-09</td></tr>\n",
       "\t<tr><th scope=row>PhoneService</th><td> 1           </td><td>1.084874e+00 </td><td>4925         </td><td>5477.732     </td><td> 2.976097e-01</td></tr>\n",
       "\t<tr><th scope=row>MultipleLines</th><td> 1           </td><td>6.545521e+00 </td><td>4924         </td><td>5471.186     </td><td> 1.051486e-02</td></tr>\n",
       "\t<tr><th scope=row>InternetService</th><td> 2           </td><td>4.886210e+02 </td><td>4922         </td><td>4982.565     </td><td>7.893942e-107</td></tr>\n",
       "\t<tr><th scope=row>OnlineSecurity</th><td> 1           </td><td>1.671947e+02 </td><td>4921         </td><td>4815.370     </td><td> 3.033148e-38</td></tr>\n",
       "\t<tr><th scope=row>OnlineBackup</th><td> 1           </td><td>7.950657e+01 </td><td>4920         </td><td>4735.864     </td><td> 4.806240e-19</td></tr>\n",
       "\t<tr><th scope=row>DeviceProtection</th><td> 1           </td><td>3.704187e+01 </td><td>4919         </td><td>4698.822     </td><td> 1.156199e-09</td></tr>\n",
       "\t<tr><th scope=row>TechSupport</th><td> 1           </td><td>7.106791e+01 </td><td>4918         </td><td>4627.754     </td><td> 3.451390e-17</td></tr>\n",
       "\t<tr><th scope=row>StreamingTV</th><td> 1           </td><td>5.983503e-01 </td><td>4917         </td><td>4627.156     </td><td> 4.392081e-01</td></tr>\n",
       "\t<tr><th scope=row>StreamingMovies</th><td> 1           </td><td>4.791857e-01 </td><td>4916         </td><td>4626.677     </td><td> 4.887914e-01</td></tr>\n",
       "\t<tr><th scope=row>Contract</th><td> 2           </td><td>2.975023e+02 </td><td>4914         </td><td>4329.174     </td><td> 2.501479e-65</td></tr>\n",
       "\t<tr><th scope=row>PaperlessBilling</th><td> 1           </td><td>1.200203e+01 </td><td>4913         </td><td>4317.172     </td><td> 5.314263e-04</td></tr>\n",
       "\t<tr><th scope=row>PaymentMethod</th><td> 3           </td><td>3.816875e+01 </td><td>4910         </td><td>4279.003     </td><td> 2.603260e-08</td></tr>\n",
       "\t<tr><th scope=row>MonthlyCharges</th><td> 1           </td><td>3.295798e-03 </td><td>4909         </td><td>4279.000     </td><td> 9.542194e-01</td></tr>\n",
       "\t<tr><th scope=row>tenure_group</th><td> 4           </td><td>1.711067e+02 </td><td>4905         </td><td>4107.893     </td><td> 6.052524e-36</td></tr>\n",
       "</tbody>\n",
       "</table>\n"
      ],
      "text/latex": [
       "\\begin{tabular}{r|lllll}\n",
       "  & Df & Deviance & Resid. Df & Resid. Dev & Pr(>Chi)\\\\\n",
       "\\hline\n",
       "\tNULL & NA            &           NA  & 4930          & 5707.083      &            NA\\\\\n",
       "\tgender &  1            & 1.003141e-02  & 4929          & 5707.073      &  9.202197e-01\\\\\n",
       "\tSeniorCitizen &  1            & 9.544623e+01  & 4928          & 5611.626      &  1.519628e-22\\\\\n",
       "\tPartner &  1            & 9.666264e+01  & 4927          & 5514.964      &  8.220603e-23\\\\\n",
       "\tDependents &  1            & 3.614707e+01  & 4926          & 5478.817      &  1.829732e-09\\\\\n",
       "\tPhoneService &  1            & 1.084874e+00  & 4925          & 5477.732      &  2.976097e-01\\\\\n",
       "\tMultipleLines &  1            & 6.545521e+00  & 4924          & 5471.186      &  1.051486e-02\\\\\n",
       "\tInternetService &  2            & 4.886210e+02  & 4922          & 4982.565      & 7.893942e-107\\\\\n",
       "\tOnlineSecurity &  1            & 1.671947e+02  & 4921          & 4815.370      &  3.033148e-38\\\\\n",
       "\tOnlineBackup &  1            & 7.950657e+01  & 4920          & 4735.864      &  4.806240e-19\\\\\n",
       "\tDeviceProtection &  1            & 3.704187e+01  & 4919          & 4698.822      &  1.156199e-09\\\\\n",
       "\tTechSupport &  1            & 7.106791e+01  & 4918          & 4627.754      &  3.451390e-17\\\\\n",
       "\tStreamingTV &  1            & 5.983503e-01  & 4917          & 4627.156      &  4.392081e-01\\\\\n",
       "\tStreamingMovies &  1            & 4.791857e-01  & 4916          & 4626.677      &  4.887914e-01\\\\\n",
       "\tContract &  2            & 2.975023e+02  & 4914          & 4329.174      &  2.501479e-65\\\\\n",
       "\tPaperlessBilling &  1            & 1.200203e+01  & 4913          & 4317.172      &  5.314263e-04\\\\\n",
       "\tPaymentMethod &  3            & 3.816875e+01  & 4910          & 4279.003      &  2.603260e-08\\\\\n",
       "\tMonthlyCharges &  1            & 3.295798e-03  & 4909          & 4279.000      &  9.542194e-01\\\\\n",
       "\ttenure\\_group &  4            & 1.711067e+02  & 4905          & 4107.893      &  6.052524e-36\\\\\n",
       "\\end{tabular}\n"
      ],
      "text/markdown": [
       "\n",
       "| <!--/--> | Df | Deviance | Resid. Df | Resid. Dev | Pr(>Chi) |\n",
       "|---|---|---|---|---|---|\n",
       "| NULL | NA            |           NA  | 4930          | 5707.083      |            NA |\n",
       "| gender |  1            | 1.003141e-02  | 4929          | 5707.073      |  9.202197e-01 |\n",
       "| SeniorCitizen |  1            | 9.544623e+01  | 4928          | 5611.626      |  1.519628e-22 |\n",
       "| Partner |  1            | 9.666264e+01  | 4927          | 5514.964      |  8.220603e-23 |\n",
       "| Dependents |  1            | 3.614707e+01  | 4926          | 5478.817      |  1.829732e-09 |\n",
       "| PhoneService |  1            | 1.084874e+00  | 4925          | 5477.732      |  2.976097e-01 |\n",
       "| MultipleLines |  1            | 6.545521e+00  | 4924          | 5471.186      |  1.051486e-02 |\n",
       "| InternetService |  2            | 4.886210e+02  | 4922          | 4982.565      | 7.893942e-107 |\n",
       "| OnlineSecurity |  1            | 1.671947e+02  | 4921          | 4815.370      |  3.033148e-38 |\n",
       "| OnlineBackup |  1            | 7.950657e+01  | 4920          | 4735.864      |  4.806240e-19 |\n",
       "| DeviceProtection |  1            | 3.704187e+01  | 4919          | 4698.822      |  1.156199e-09 |\n",
       "| TechSupport |  1            | 7.106791e+01  | 4918          | 4627.754      |  3.451390e-17 |\n",
       "| StreamingTV |  1            | 5.983503e-01  | 4917          | 4627.156      |  4.392081e-01 |\n",
       "| StreamingMovies |  1            | 4.791857e-01  | 4916          | 4626.677      |  4.887914e-01 |\n",
       "| Contract |  2            | 2.975023e+02  | 4914          | 4329.174      |  2.501479e-65 |\n",
       "| PaperlessBilling |  1            | 1.200203e+01  | 4913          | 4317.172      |  5.314263e-04 |\n",
       "| PaymentMethod |  3            | 3.816875e+01  | 4910          | 4279.003      |  2.603260e-08 |\n",
       "| MonthlyCharges |  1            | 3.295798e-03  | 4909          | 4279.000      |  9.542194e-01 |\n",
       "| tenure_group |  4            | 1.711067e+02  | 4905          | 4107.893      |  6.052524e-36 |\n",
       "\n"
      ],
      "text/plain": [
       "                 Df Deviance     Resid. Df Resid. Dev Pr(>Chi)     \n",
       "NULL             NA           NA 4930      5707.083              NA\n",
       "gender            1 1.003141e-02 4929      5707.073    9.202197e-01\n",
       "SeniorCitizen     1 9.544623e+01 4928      5611.626    1.519628e-22\n",
       "Partner           1 9.666264e+01 4927      5514.964    8.220603e-23\n",
       "Dependents        1 3.614707e+01 4926      5478.817    1.829732e-09\n",
       "PhoneService      1 1.084874e+00 4925      5477.732    2.976097e-01\n",
       "MultipleLines     1 6.545521e+00 4924      5471.186    1.051486e-02\n",
       "InternetService   2 4.886210e+02 4922      4982.565   7.893942e-107\n",
       "OnlineSecurity    1 1.671947e+02 4921      4815.370    3.033148e-38\n",
       "OnlineBackup      1 7.950657e+01 4920      4735.864    4.806240e-19\n",
       "DeviceProtection  1 3.704187e+01 4919      4698.822    1.156199e-09\n",
       "TechSupport       1 7.106791e+01 4918      4627.754    3.451390e-17\n",
       "StreamingTV       1 5.983503e-01 4917      4627.156    4.392081e-01\n",
       "StreamingMovies   1 4.791857e-01 4916      4626.677    4.887914e-01\n",
       "Contract          2 2.975023e+02 4914      4329.174    2.501479e-65\n",
       "PaperlessBilling  1 1.200203e+01 4913      4317.172    5.314263e-04\n",
       "PaymentMethod     3 3.816875e+01 4910      4279.003    2.603260e-08\n",
       "MonthlyCharges    1 3.295798e-03 4909      4279.000    9.542194e-01\n",
       "tenure_group      4 1.711067e+02 4905      4107.893    6.052524e-36"
      ]
     },
     "metadata": {},
     "output_type": "display_data"
    },
    {
     "name": "stdout",
     "output_type": "stream",
     "text": [
      "[1] \"Logistic Regression Accuracy 0.805397727272727\"\n",
      "[1] \"Confusion Matrix for Logistic Regression\"\n"
     ]
    },
    {
     "data": {
      "text/plain": [
       "   \n",
       "    FALSE TRUE\n",
       "  0  1412  140\n",
       "  1   271  289"
      ]
     },
     "metadata": {},
     "output_type": "display_data"
    },
    {
     "data": {
      "image/png": "[encoded data removed]",
      "text/plain": [
       "Plot with title \"\n",
       "\n",
       "Correlation Plot for Numerical Variables\""
      ]
     },
     "metadata": {},
     "output_type": "display_data"
    }
   ],
   "source": [
    "sapply(churn, function(x) sum(is.na(x)))\n",
    "\n",
    "churn[is.na(churn)] = 0\n",
    "\n",
    "churn <- churn[complete.cases(churn), ]\n",
    "\n",
    "\n",
    "\n",
    "cols_recode1 <- c(10:15)\n",
    "for(i in 1:ncol(churn[,cols_recode1])) {\n",
    "  churn[,cols_recode1][,i] <- as.factor(mapvalues\n",
    "                                        (churn[,cols_recode1][,i], from =c(\"No internet service\"),to=c(\"No\")))\n",
    "}\n",
    "\n",
    "churn$MultipleLines <- as.factor(mapvalues(churn$MultipleLines, \n",
    "                                           from=c(\"No phone service\"),\n",
    "                                           to=c(\"No\")))\n",
    "\n",
    "min(churn$tenure); max(churn$tenure)\n",
    "\n",
    "group_tenure <- function(tenure){\n",
    "  if (tenure >= 0 & tenure <= 12){\n",
    "    return('0-12 Month')\n",
    "  }else if(tenure > 12 & tenure <= 24){\n",
    "    return('12-24 Month')\n",
    "  }else if (tenure > 24 & tenure <= 48){\n",
    "    return('24-48 Month')\n",
    "  }else if (tenure > 48 & tenure <=60){\n",
    "    return('48-60 Month')\n",
    "  }else if (tenure > 60){\n",
    "    return('> 60 Month')\n",
    "  }\n",
    "}\n",
    "churn$tenure_group <- sapply(churn$tenure,group_tenure)\n",
    "churn$tenure_group <- as.factor(churn$tenure_group)\n",
    "\n",
    "\n",
    "churn$SeniorCitizen <- as.factor(mapvalues(churn$SeniorCitizen,\n",
    "                                           from=c(\"0\",\"1\"),\n",
    "                                           to=c(\"No\", \"Yes\")))\n",
    "\n",
    "churn$customerID <- NULL\n",
    "churn$tenure <- NULL\n",
    "\n",
    "\n",
    "numeric.var <- sapply(churn, is.numeric)\n",
    "corr.matrix <- cor(churn[,numeric.var])\n",
    "corrplot(corr.matrix, main=\"\\n\\nCorrelation Plot for Numerical Variables\", method=\"number\")\n",
    "\n",
    "\n",
    "churn$TotalCharges <- NULL\n",
    "\n",
    "intrain<- createDataPartition(churn$Churn,p=0.7,list=FALSE)\n",
    "set.seed(2017)\n",
    "training<- churn[intrain,]\n",
    "testing<- churn[-intrain,]\n",
    "\n",
    "dim(training); dim(testing)\n",
    "\n",
    "\n",
    "LogModel <- glm(Churn ~ .,family=binomial(link=\"logit\"),data=training)\n",
    "print(summary(LogModel))\n",
    "\n",
    "anova(LogModel, test=\"Chisq\")\n",
    "\n",
    "testing$Churn <- as.character(testing$Churn)\n",
    "testing$Churn[testing$Churn==\"No\"] <- \"0\"\n",
    "testing$Churn[testing$Churn==\"Yes\"] <- \"1\"\n",
    "fitted.results <- predict(LogModel,newdata=testing,type='response')\n",
    "fitted.results <- ifelse(fitted.results > 0.5,1,0)\n",
    "misClasificError <- mean(fitted.results != testing$Churn)\n",
    "print(paste('Logistic Regression Accuracy',1-misClasificError))\n",
    "\n",
    "print(\"Confusion Matrix for Logistic Regression\"); table(testing$Churn, fitted.results > 0.5)\n",
    "\n"
   ]
  },
  {
   "cell_type": "code",
   "execution_count": null,
   "id": "experienced-karaoke",
   "metadata": {},
   "outputs": [],
   "source": []
  }
 ],
 "metadata": {
  "kernelspec": {
   "display_name": "R",
   "language": "R",
   "name": "ir"
  },
  "language_info": {
   "codemirror_mode": "r",
   "file_extension": ".r",
   "mimetype": "text/x-r-source",
   "name": "R",
   "pygments_lexer": "r",
   "version": "3.6.1"
  }
 },
 "nbformat": 4,
 "nbformat_minor": 5
}
